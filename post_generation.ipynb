{
 "cells": [
  {
   "cell_type": "code",
   "execution_count": 14,
   "id": "61558ad3-6e24-49a7-86b9-cd9d5d3eb59e",
   "metadata": {},
   "outputs": [
    {
     "name": "stdout",
     "output_type": "stream",
     "text": [
      "11682\n"
     ]
    }
   ],
   "source": [
    "import pandas as pd\n",
    "\n",
    "df = pd.read_csv(\"first_large_2411.csv\")\n",
    "print(len(df))"
   ]
  },
  {
   "cell_type": "code",
   "execution_count": 4,
   "id": "2891880b-87e4-4260-820b-3787c4daa39d",
   "metadata": {},
   "outputs": [
    {
     "name": "stdout",
     "output_type": "stream",
     "text": [
      "                                         txt_content  \\\n",
      "0  How long do points stay on your licence?\\nIf y...   \n",
      "1  How long do points stay on your licence?\\nIf y...   \n",
      "2  How long do points stay on your licence?\\nIf y...   \n",
      "3  How long do points stay on your licence?\\nIf y...   \n",
      "4  How long do points stay on your licence?\\nIf y...   \n",
      "\n",
      "                                            question answer  \\\n",
      "0  What is the maximum number of penalty points y...     11   \n",
      "1  What is the average number of years penalty po...    6.1   \n",
      "2  Is the minimum number of penalty points for us...   True   \n",
      "3  How many years will the endorsement for drink ...     11   \n",
      "4  What is the total number of penalty points you...    NaN   \n",
      "\n",
      "                                         explanation  \\\n",
      "0  To answer the question, we need to identify th...   \n",
      "1  To answer the question, we need to identify th...   \n",
      "2  To answer the question, we need to identify th...   \n",
      "3  To answer the question, we need to identify th...   \n",
      "4                                                NaN   \n",
      "\n",
      "                                                code  reasoning  \\\n",
      "0  ###Python\\n# Identify the maximum penalty poin...        NaN   \n",
      "1  ###Python\\n# Extract the number of years penal...        NaN   \n",
      "2  ###Python\\nmin_penalty_points_mobile = 3  # Mi...        NaN   \n",
      "3  ###Python\\n# Extract the relevant information ...        NaN   \n",
      "4                                                NaN        NaN   \n",
      "\n",
      "                      error  \n",
      "0                       NaN  \n",
      "1                       NaN  \n",
      "2                       NaN  \n",
      "3                       NaN  \n",
      "4  No code snippet provided  \n"
     ]
    }
   ],
   "source": [
    "print(df.head())"
   ]
  },
  {
   "cell_type": "code",
   "execution_count": 15,
   "id": "532097e4-3e9d-4e22-9904-dced39255121",
   "metadata": {},
   "outputs": [
    {
     "name": "stdout",
     "output_type": "stream",
     "text": [
      "10773\n"
     ]
    }
   ],
   "source": [
    "import numpy as np\n",
    "\n",
    "def is_num_or_bool(x):\n",
    "    # 1) Exclude NaN right away\n",
    "    if pd.isna(x):\n",
    "        return False\n",
    "\n",
    "    # 2) If it’s already a bool\n",
    "    if isinstance(x, bool):\n",
    "        return True\n",
    "\n",
    "    # 3) If it’s an int or float (and not NaN)\n",
    "    if isinstance(x, (int, float)) and not (isinstance(x, float) and np.isnan(x)):\n",
    "        return True\n",
    "\n",
    "    # 4) If it’s a string, try to parse it\n",
    "    if isinstance(x, str):\n",
    "        s = x.strip()\n",
    "\n",
    "        # 4a) Check for boolean‐string\n",
    "        if s.lower() in {\"true\", \"false\"}:\n",
    "            return True\n",
    "\n",
    "        # 4b) Otherwise, try to convert to float\n",
    "        try:\n",
    "            num = float(s)\n",
    "            # float(\"nan\") is NaN, so check again\n",
    "            return not np.isnan(num)\n",
    "        except ValueError:\n",
    "            return False\n",
    "\n",
    "    # 5) Everything else → discard\n",
    "    return False\n",
    "\n",
    "# Apply filter\n",
    "df = df[df[\"answer\"].apply(is_num_or_bool)].reset_index(drop=True)\n",
    "print(len(df))"
   ]
  },
  {
   "cell_type": "code",
   "execution_count": 255,
   "id": "088b3966-59dd-4949-bb11-847a1294e28b",
   "metadata": {},
   "outputs": [],
   "source": [
    "df = df.drop(columns=[\"reasoning\", \"error\"])"
   ]
  },
  {
   "cell_type": "code",
   "execution_count": 16,
   "id": "8ab609d7-ea75-4cc9-a6bd-e81da2d8647a",
   "metadata": {},
   "outputs": [
    {
     "name": "stdout",
     "output_type": "stream",
     "text": [
      "10421\n"
     ]
    }
   ],
   "source": [
    "# remove all where explanation contains word \"python\". we dont want reasoning to include python.\n",
    "mask = ~df[\"explanation\"].str.contains(r\"'ans'|Python\", na=False)\n",
    "\n",
    "# Apply the mask to filter out unwanted rows\n",
    "df = df[mask].reset_index(drop=True)\n",
    "\n",
    "print(len(df))"
   ]
  },
  {
   "cell_type": "code",
   "execution_count": 17,
   "id": "61afbbf5-2495-4bd1-b2f8-9f3a39f847cc",
   "metadata": {},
   "outputs": [
    {
     "name": "stdout",
     "output_type": "stream",
     "text": [
      "10156\n"
     ]
    }
   ],
   "source": [
    "# this is the filter for ones that use purely extraction:\n",
    "number_regex = r\"\\b\\d+(?:\\.\\d+)?\\b\"\n",
    "\n",
    "# 2) Count how many numeric literals appear in each \"code\" string\n",
    "num_counts = df[\"code\"].str.findall(number_regex).apply(len)\n",
    "\n",
    "# 3) Drop rows where count == 1\n",
    "df = df[num_counts != 1].reset_index(drop=True)\n",
    "\n",
    "print(len(df))"
   ]
  },
  {
   "cell_type": "code",
   "execution_count": 18,
   "id": "6031712e-0349-4e6b-8958-69ff2ac8e531",
   "metadata": {},
   "outputs": [
    {
     "name": "stderr",
     "output_type": "stream",
     "text": [
      "Converting text: 100%|██████████| 10156/10156 [00:16<00:00, 602.90it/s]\n"
     ]
    }
   ],
   "source": [
    "# now going to filter if answer doesnt use values from the tables\n",
    "import re\n",
    "import markdown\n",
    "\n",
    "def convert_tables_only(text: str) -> str:\n",
    "    \"\"\"\n",
    "    Scans `text` for Markdown-style tables (lines starting and ending with '|'\n",
    "    and a separator line of pipes+dashes), converts each table chunk to HTML,\n",
    "    and leaves all other text untouched.\n",
    "    \"\"\"\n",
    "    # regex to detect the start of a table header and its separator line\n",
    "    table_header = re.compile(r'^\\s*\\|.*\\|\\s*$')\n",
    "    separator   = re.compile(r'^\\s*\\|(?:\\s*:?-+:?\\s*\\|)+\\s*$')\n",
    "\n",
    "    lines = text.splitlines(keepends=True)\n",
    "    out_lines = []\n",
    "    buffer = []\n",
    "    in_table = False\n",
    "\n",
    "    for line in lines:\n",
    "        if not in_table:\n",
    "            # look for a header row\n",
    "            if table_header.match(line):\n",
    "                buffer.append(line)\n",
    "                in_table = True\n",
    "            else:\n",
    "                out_lines.append(line)\n",
    "        else:\n",
    "            # already in a candidate table: continue until blank or non-table\n",
    "            if line.strip() and (table_header.match(line) or separator.match(line)):\n",
    "                buffer.append(line)\n",
    "            else:\n",
    "                # convert buffered table\n",
    "                html_tbl = markdown.markdown(''.join(buffer),\n",
    "                                             extensions=['tables'])\n",
    "                out_lines.append(html_tbl + '\\n')\n",
    "                buffer = []\n",
    "                in_table = False\n",
    "                out_lines.append(line)  # and handle this non-table line\n",
    "    # flush at end\n",
    "    if in_table and buffer:\n",
    "        html_tbl = markdown.markdown(''.join(buffer),\n",
    "                                     extensions=['tables'])\n",
    "        out_lines.append(html_tbl + '\\n')\n",
    "\n",
    "    return ''.join(out_lines)\n",
    "\n",
    "from tqdm import tqdm\n",
    "\n",
    "results = []\n",
    "\n",
    "# items() gives you (index, text) pairs\n",
    "for idx, text in tqdm(df['txt_content'].items(), total=len(df), desc=\"Converting text\"):\n",
    "    # print above the bar so it doesn’t mess up the progress UI\n",
    "    #tqdm.write(f\"→ Processing index {idx!r} (len={len(text)})\")\n",
    "    # now run your conversion\n",
    "    #hello = normalize_multiline_tables(text)\n",
    "    html = convert_tables_only(text)\n",
    "    results.append(html)\n",
    "\n",
    "df['text_html'] = results"
   ]
  },
  {
   "cell_type": "code",
   "execution_count": 19,
   "id": "e61e2388-d2f2-4a3d-95fb-0cb119cfb918",
   "metadata": {},
   "outputs": [],
   "source": [
    "import pandas as pd\n",
    "from bs4 import BeautifulSoup\n",
    "import re\n",
    "\n",
    "def extract_numbers(html_content):\n",
    "    \"\"\"\n",
    "    Parse the HTML in 'html_content', find all numeric literals (ints or floats)\n",
    "    inside <td> or <th> tags, convert them to float, and return as a list.\n",
    "    \"\"\"\n",
    "    soup = BeautifulSoup(html_content, \"html.parser\")\n",
    "    numbers = []\n",
    "    # Look through every <td> or <th> element\n",
    "    for cell in soup.find_all([\"td\", \"th\"]):\n",
    "        text = cell.get_text()\n",
    "        # Find all integer or decimal numbers in that cell’s text\n",
    "        matches = re.findall(r\"-?\\d+(?:\\.\\d+)?\", text)\n",
    "        for num_str in matches:\n",
    "            numbers.append(float(num_str))\n",
    "    return numbers\n",
    "\n",
    "# Apply the function to create a new column 'numeric_values'\n",
    "df[\"numeric_values\"] = df[\"text_html\"].apply(extract_numbers)"
   ]
  },
  {
   "cell_type": "code",
   "execution_count": 20,
   "id": "cf9bc274-ddbc-4559-9d4a-d3b43e4ee6ad",
   "metadata": {},
   "outputs": [
    {
     "name": "stdout",
     "output_type": "stream",
     "text": [
      "7952\n"
     ]
    }
   ],
   "source": [
    "# checks uses values in the table, decide if you actually want this...\n",
    "def uses_numeric_values(row):\n",
    "    # Find all numeric literals in the code string\n",
    "    matches = re.findall(r'-?\\d+(?:\\.\\d+)?', row['code'])\n",
    "    code_nums = {float(m) for m in matches}\n",
    "\n",
    "    # Return True if any numeric_values element is in the set of code numbers\n",
    "    return any(val in code_nums for val in row['numeric_values'])\n",
    "\n",
    "# Apply the filter: keep only rows where the code uses at least one numeric value\n",
    "df = df[df.apply(uses_numeric_values, axis=1)].reset_index(drop=True)\n",
    "\n",
    "# Example: print the filtered DataFrame\n",
    "print(len(df))"
   ]
  },
  {
   "cell_type": "code",
   "execution_count": null,
   "id": "5e9fbce7-75c1-4eb7-8515-f5c198d0d11a",
   "metadata": {},
   "outputs": [
    {
     "name": "stdout",
     "output_type": "stream",
     "text": [
      "7921\n"
     ]
    }
   ],
   "source": [
    "# # remove duplicate numerical answers\n",
    "# # 1) Create a mask for rows where 'answer' is numeric\n",
    "# numeric_mask = pd.to_numeric(df['answer'], errors='coerce').notna()\n",
    "\n",
    "# # 2) Identify duplicate rows by ('answer', 'txt_content'),\n",
    "# #    but mark only the second (and subsequent) occurrences\n",
    "# dup_mask = df.duplicated(subset=['answer', 'txt_content'], keep='first')\n",
    "\n",
    "# # 3) Combine: True for rows we want to drop (numeric answer AND a duplicate beyond the first)\n",
    "# drop_mask = dup_mask & numeric_mask\n",
    "\n",
    "# # 4) Drop those rows, but leave the first occurrence of each duplicate pair\n",
    "# df = df[~drop_mask].reset_index(drop=True)\n",
    "\n",
    "# print(len(df))"
   ]
  },
  {
   "cell_type": "code",
   "execution_count": 21,
   "id": "a4c6e715-cda4-4b26-ae21-3080cc70fca8",
   "metadata": {},
   "outputs": [
    {
     "name": "stdout",
     "output_type": "stream",
     "text": [
      "7944\n"
     ]
    }
   ],
   "source": [
    "#remove entries where the explanation assumes something:\n",
    "mask = df['explanation'].astype(str).str.contains(r'\\bassume\\b', case=False, na=False)\n",
    "\n",
    "# 2) Drop those rows\n",
    "df = df[~mask].reset_index(drop=True)\n",
    "print(len(df))"
   ]
  },
  {
   "cell_type": "code",
   "execution_count": 24,
   "id": "cecd0032",
   "metadata": {},
   "outputs": [
    {
     "name": "stdout",
     "output_type": "stream",
     "text": [
      "                                         txt_content  \\\n",
      "0  How long do points stay on your licence?\\nIf y...   \n",
      "1  How long do points stay on your licence?\\nIf y...   \n",
      "2  UK hotspots for licence penalty points\\nAcross...   \n",
      "3  UK hotspots for licence penalty points\\nAcross...   \n",
      "4  UK hotspots for licence penalty points\\nAcross...   \n",
      "\n",
      "                                            question              answer  \\\n",
      "0  What is the average number of years penalty po...                 6.1   \n",
      "1  Is the minimum number of penalty points for us...                True   \n",
      "2  What is the average number of drivers with at ...  104.23333333333333   \n",
      "3  Is the number of drivers with licence points i...                True   \n",
      "4  What is the total number of drivers with at le...               10291   \n",
      "\n",
      "                                         explanation  \\\n",
      "0  To answer the question, we need to identify th...   \n",
      "1  To answer the question, we need to identify th...   \n",
      "2  To answer the question, we need to identify th...   \n",
      "3  To answer the question, we need to extract the...   \n",
      "4  To answer the question, we need to identify th...   \n",
      "\n",
      "                                                code  reasoning error  \\\n",
      "0  ###Python\\n# Extract the number of years penal...        NaN   NaN   \n",
      "1  ###Python\\nmin_penalty_points_mobile = 3  # Mi...        NaN   NaN   \n",
      "2  ###Python\\nbradford_points_per_1000 = 118.8\\nl...        NaN   NaN   \n",
      "3  ###Python\\n# Extract the number of drivers wit...        NaN   NaN   \n",
      "4  ###Python\\ncanterbury_drivers = 668\\ncambridge...        NaN   NaN   \n",
      "\n",
      "                                           text_html  \\\n",
      "0  How long do points stay on your licence?\\nIf y...   \n",
      "1  How long do points stay on your licence?\\nIf y...   \n",
      "2  UK hotspots for licence penalty points\\nAcross...   \n",
      "3  UK hotspots for licence penalty points\\nAcross...   \n",
      "4  UK hotspots for licence penalty points\\nAcross...   \n",
      "\n",
      "                                      numeric_values  \n",
      "0  [3.0, -6.0, 4.0, 3.0, 4.0, 3.0, -6.0, 4.0, 5.0...  \n",
      "1  [3.0, -6.0, 4.0, 3.0, 4.0, 3.0, -6.0, 4.0, 5.0...  \n",
      "2  [1000.0, 31.0, 993.0, 118.8, 47.0, 255.0, 99.1...  \n",
      "3  [1000.0, 31.0, 993.0, 118.8, 47.0, 255.0, 99.1...  \n",
      "4  [1000.0, 31.0, 993.0, 118.8, 47.0, 255.0, 99.1...  \n"
     ]
    }
   ],
   "source": [
    "print(df.head())"
   ]
  },
  {
   "cell_type": "code",
   "execution_count": 40,
   "id": "dfa730e7",
   "metadata": {},
   "outputs": [
    {
     "name": "stdout",
     "output_type": "stream",
     "text": [
      "(2492, 9)\n"
     ]
    }
   ],
   "source": [
    "#semhash\n",
    "\n",
    "from semhash import SemHash\n",
    "\n",
    "records = df.to_dict(orient=\"records\")\n",
    "\n",
    "semhash = SemHash.from_records(records=records, columns=[\"question\", \"txt_content\", \"explanation\", \"code\"])\n",
    "\n",
    "dedup_result = semhash.self_deduplicate(threshold=0.8)\n",
    "\n",
    "deduped_records=dedup_result.deduplicated\n",
    "\n",
    "df = pd.DataFrame(deduped_records)\n",
    "print(df.shape)"
   ]
  },
  {
   "cell_type": "code",
   "execution_count": 41,
   "id": "6983cd68",
   "metadata": {},
   "outputs": [],
   "source": [
    "df.to_csv(\"first_ft.csv\", columns=[\"question\", \"txt_content\", \"explanation\", \"answer\"], index=False)"
   ]
  },
  {
   "cell_type": "code",
   "execution_count": 29,
   "id": "f694cd8d",
   "metadata": {},
   "outputs": [
    {
     "name": "stdout",
     "output_type": "stream",
     "text": [
      "[({'txt_content': \"Penny stocks are characterized by their low price (under $5 per share), high volatility, and potential for significant gains. While they can offer great rewards, they have higher risks because of their lower market capitalization and the more limited information investors have on them. Penny stocks are typically for smaller or emerging companies. They are considered potential diamonds in the rough that requires due diligence and a careful approach, given their sudden price fluctuations and the fact that many turn out worthless.\\nThis month's top penny stocks include Myomo Inc., Expion360 Inc., and Akebia Therapeutics Inc., all of which have more than tripled in value during the past year. Here are the top three penny stocks with the best value, the fastest growth, and the most momentum. All data is as of Nov. 24, 2023.\\nBest Value Penny Stocks\\nThese are the penny stocks with the lowest 12-month trailing price-to-earnings (P/E) ratio. A low P/E ratio indicates you're paying less for each dollar of profit that could be returned to you in the form of dividends or buybacks.\\n| Best Value Penny Stocks | |||\\n|---|---|---|---|\\n| Price ($) | Market Cap ($M) | 12-Month Trailing P/E Ratio | |\\n| FLJ Group Ltd. (FLJ) | 0.18 | 1,8000 | 0.4 |\\n| Imperial Petroleum Inc. (IMPP) | 1.61 | 27 | 0.4 |\\n| Performance Shipping Inc. (PSHG) | 2.26 | 27 | 0.5 |\\nSource: TradingView\\n- FLJ Group Ltd.: This is a China-based real estate company that leases apartments, typically on a long-term basis, and offers utility services to tenants. On Nov. 23, FLJ said it would acquire Alpha Mind Technology Ltd., an insurance provider, for about $180 million. Following the news, the share price rose 45%.\\n- Imperial Petroleum Inc.: Based in Greece, Imperial Petroleum transports by sea crude oil products, dry bulk materials, iron ore, coal, grain, and fertilizer.\\n- Performance Shipping Inc.: This is a seaborne transportation company in Greece with a fleet of eight tankers.\\nFastest Growing Penny Stocks\\nThese are the top penny stocks ranked by a growth model that scores companies based on a 50/50 weighting of their year-over-year revenue and earnings-per-share (EPS) growth in the most recent quarter.\\nBoth sales and earnings are critical factors in the success of a company. Therefore, ranking companies by only one growth metric makes a ranking susceptible to the accounting anomalies of that quarter (such as changes in tax laws or restructuring costs) that may make one figure or the other unrepresentative of the business in general. Companies with quarterly EPS or revenue growth of more than 1,000% were excluded as outliers.\\n| Fastest Growing Penny Stocks | ||||\\n|---|---|---|---|---|\\n| Price ($) | Market Cap ($M) | EPS Growth (%) | Revenue Growth (%) | |\\n| Inhibikase Therapeutics Inc.(IKT) | 0.87 | 5.4 | 20 | 991 |\\n| PAVmed Inc.(PAVM) | 0.22 | 26.3 | 46 | 941 |\\n| Lucid Diagnostics Inc.(LUCD) | 1.31 | 58.5 | 14 | 930 |\\nSource: TradingView\\n- Inhibikase Therapeutics Inc.: A biotech company that develops pharmaceuticals to help treat Parkison's disease, its flagship product is IkT-148009. It is a small molecule Abelson tyrosine kinase inhibitor, which is still being tested in a clinical trial.\\n- PAVmed Inc.: This is a healthcare equipment provider that concentrates on single-use, minimally invasive surgical equipment. On Nov. 14, the company released its report on earnings for the third quarter that said total revenue surged 10-fold while net income fell 27%.\\n- Lucid Diagnostics Inc.: This is a medical diagnostics company that focuses on patients at risk of developing esophageal cancer. They are a subsidiary of PAVmed Inc.\\nPenny Stocks With the Most Momentum\\nThese are the penny stocks that had the highest total return over the past 12 months.\\n| Penny Stocks With the Most Momentum | |||\\n|---|---|---|---|\\n| Price ($) | Market Cap ($M) | 12-Month Trailing Total Return (%) | |\\n| Myomo Inc. (MYO) | 3.22 | 85 | 434 |\\n| Expion360 Inc. (XPON) | 4.03 | 28 | 290 |\\n| Akebia Therapeutics Inc.(AKBA) | 1.00 | 188 | 285 |\\n| Russell 1000 Index | N/A | N/A | 10 |\\n| Russell 2000 Index | N/A | N/A | 5 |\\nSource: TradingView\\n- Myomo Inc.: A medical robotics company, Myomo develops orthotics for patients with neuromuscular disorders. Its products include a wearable upper limb brace that assists individuals lacking mobility. Myomo has had substantial growth this year after Medicare said it would cover its flagship product, the MyoPro brace.\\n- Expion360 Inc.: An electrical equipment company, Expion360 makes lithium iron phosphate batteries for recreational vehicles. The company also makes battery charging systems and home energy storage products.\\n- Akebia Therapeutics Inc.: A pharmaceutical company that produces therapies for individuals with kidney diseases who are both dialysis and non-dialysis dependent.\\nAdvantages of Investing in Penny Stocks\\nPotential for high returns: Most penny stocks have tiny market capitalizations, so it takes a small amount of money to move their share prices substantially. Hence, positive news, such as signing on a major customer or forming a new strategic alliance, can lead to sizable returns before the mainstream investing world even discovers the stock. Conversely, negative news can lead to significant losses.\\nLeverage: Penny stocks attract investors with a small amount of trading capital since their lower share prices allow them to buy thousands of shares. For example, an investor with $500 can buy 2,000 shares of a penny stock trading at 25 cents. If the stock doubles in a month, the investor earns a quick 100% return. Yet, with the same starting capital, the investor can afford only a small number of shares in most S&P 500 stocks, making it almost impossible to achieve those gains over the same period.\\nRisks of Investing in Penny Stocks\\nLow liquidity: Penny stocks often trade on thin volume, meaning it can be difficult to enter and exit positions. Moreover, these stocks typically have a wide spread between the bid and ask, which increases trading costs. For example, if a penny stock has a bid price of $1.00 and an ask price of $1.50, a trader wanting to buy at market gets caught paying a 50 cent per share premium. Thus, investors should use limit orders to minimize trading costs when buying and selling penny stocks.\\nExtreme valuations: Penny stocks that start moving rapidly higher in price show up on stock screeners and may even get media attention. This often attracts more speculators who push prices up even higher, leading to unsustainable valuations. For instance, during the dot-com bubble in the late 1990s, many penny technology stocks doubled and tripled in price despite not generating any earnings. However, when the market turned bearish a few years later, many Nasdaq-listed penny stocks with unsustainable valuations fell substantially or were delisted.\\nThe comments, opinions, and analyses expressed on Investopedia are for informational purposes only. Read our warranty and liability disclaimer for more info.\\nAs of the date this article was written, the author does not own any of the above stocks.\", 'question': 'What is the average price-to-earnings ratio of the top three best value penny stocks?', 'answer': '0.43333333333333335', 'explanation': 'To answer the question, we need to identify the top three best value penny stocks and their respective 12-month trailing price-to-earnings (P/E) ratios. We then calculate the average of these P/E ratios.', 'code': '###Python\\n# Extract the P/E ratios of the top three best value penny stocks\\npe_ratio_1 = 0.4\\npe_ratio_2 = 0.4\\npe_ratio_3 = 0.5\\n# Calculate the average P/E ratio\\nans = (pe_ratio_1 + pe_ratio_2 + pe_ratio_3) / 3\\n###End Python', 'reasoning': nan, 'error': nan, 'text_html': \"Penny stocks are characterized by their low price (under $5 per share), high volatility, and potential for significant gains. While they can offer great rewards, they have higher risks because of their lower market capitalization and the more limited information investors have on them. Penny stocks are typically for smaller or emerging companies. They are considered potential diamonds in the rough that requires due diligence and a careful approach, given their sudden price fluctuations and the fact that many turn out worthless.\\nThis month's top penny stocks include Myomo Inc., Expion360 Inc., and Akebia Therapeutics Inc., all of which have more than tripled in value during the past year. Here are the top three penny stocks with the best value, the fastest growth, and the most momentum. All data is as of Nov. 24, 2023.\\nBest Value Penny Stocks\\nThese are the penny stocks with the lowest 12-month trailing price-to-earnings (P/E) ratio. A low P/E ratio indicates you're paying less for each dollar of profit that could be returned to you in the form of dividends or buybacks.\\n<table>\\n<thead>\\n<tr>\\n<th>Best Value Penny Stocks</th>\\n<th></th>\\n<th></th>\\n<th></th>\\n</tr>\\n</thead>\\n<tbody>\\n<tr>\\n<td>Price ($)</td>\\n<td>Market Cap ($M)</td>\\n<td>12-Month Trailing P/E Ratio</td>\\n<td></td>\\n</tr>\\n<tr>\\n<td>FLJ Group Ltd. (FLJ)</td>\\n<td>0.18</td>\\n<td>1,8000</td>\\n<td>0.4</td>\\n</tr>\\n<tr>\\n<td>Imperial Petroleum Inc. (IMPP)</td>\\n<td>1.61</td>\\n<td>27</td>\\n<td>0.4</td>\\n</tr>\\n<tr>\\n<td>Performance Shipping Inc. (PSHG)</td>\\n<td>2.26</td>\\n<td>27</td>\\n<td>0.5</td>\\n</tr>\\n</tbody>\\n</table>\\nSource: TradingView\\n- FLJ Group Ltd.: This is a China-based real estate company that leases apartments, typically on a long-term basis, and offers utility services to tenants. On Nov. 23, FLJ said it would acquire Alpha Mind Technology Ltd., an insurance provider, for about $180 million. Following the news, the share price rose 45%.\\n- Imperial Petroleum Inc.: Based in Greece, Imperial Petroleum transports by sea crude oil products, dry bulk materials, iron ore, coal, grain, and fertilizer.\\n- Performance Shipping Inc.: This is a seaborne transportation company in Greece with a fleet of eight tankers.\\nFastest Growing Penny Stocks\\nThese are the top penny stocks ranked by a growth model that scores companies based on a 50/50 weighting of their year-over-year revenue and earnings-per-share (EPS) growth in the most recent quarter.\\nBoth sales and earnings are critical factors in the success of a company. Therefore, ranking companies by only one growth metric makes a ranking susceptible to the accounting anomalies of that quarter (such as changes in tax laws or restructuring costs) that may make one figure or the other unrepresentative of the business in general. Companies with quarterly EPS or revenue growth of more than 1,000% were excluded as outliers.\\n<table>\\n<thead>\\n<tr>\\n<th>Fastest Growing Penny Stocks</th>\\n<th></th>\\n<th></th>\\n<th></th>\\n<th></th>\\n</tr>\\n</thead>\\n<tbody>\\n<tr>\\n<td>Price ($)</td>\\n<td>Market Cap ($M)</td>\\n<td>EPS Growth (%)</td>\\n<td>Revenue Growth (%)</td>\\n<td></td>\\n</tr>\\n<tr>\\n<td>Inhibikase Therapeutics Inc.(IKT)</td>\\n<td>0.87</td>\\n<td>5.4</td>\\n<td>20</td>\\n<td>991</td>\\n</tr>\\n<tr>\\n<td>PAVmed Inc.(PAVM)</td>\\n<td>0.22</td>\\n<td>26.3</td>\\n<td>46</td>\\n<td>941</td>\\n</tr>\\n<tr>\\n<td>Lucid Diagnostics Inc.(LUCD)</td>\\n<td>1.31</td>\\n<td>58.5</td>\\n<td>14</td>\\n<td>930</td>\\n</tr>\\n</tbody>\\n</table>\\nSource: TradingView\\n- Inhibikase Therapeutics Inc.: A biotech company that develops pharmaceuticals to help treat Parkison's disease, its flagship product is IkT-148009. It is a small molecule Abelson tyrosine kinase inhibitor, which is still being tested in a clinical trial.\\n- PAVmed Inc.: This is a healthcare equipment provider that concentrates on single-use, minimally invasive surgical equipment. On Nov. 14, the company released its report on earnings for the third quarter that said total revenue surged 10-fold while net income fell 27%.\\n- Lucid Diagnostics Inc.: This is a medical diagnostics company that focuses on patients at risk of developing esophageal cancer. They are a subsidiary of PAVmed Inc.\\nPenny Stocks With the Most Momentum\\nThese are the penny stocks that had the highest total return over the past 12 months.\\n<table>\\n<thead>\\n<tr>\\n<th>Penny Stocks With the Most Momentum</th>\\n<th></th>\\n<th></th>\\n<th></th>\\n</tr>\\n</thead>\\n<tbody>\\n<tr>\\n<td>Price ($)</td>\\n<td>Market Cap ($M)</td>\\n<td>12-Month Trailing Total Return (%)</td>\\n<td></td>\\n</tr>\\n<tr>\\n<td>Myomo Inc. (MYO)</td>\\n<td>3.22</td>\\n<td>85</td>\\n<td>434</td>\\n</tr>\\n<tr>\\n<td>Expion360 Inc. (XPON)</td>\\n<td>4.03</td>\\n<td>28</td>\\n<td>290</td>\\n</tr>\\n<tr>\\n<td>Akebia Therapeutics Inc.(AKBA)</td>\\n<td>1.00</td>\\n<td>188</td>\\n<td>285</td>\\n</tr>\\n<tr>\\n<td>Russell 1000 Index</td>\\n<td>N/A</td>\\n<td>N/A</td>\\n<td>10</td>\\n</tr>\\n<tr>\\n<td>Russell 2000 Index</td>\\n<td>N/A</td>\\n<td>N/A</td>\\n<td>5</td>\\n</tr>\\n</tbody>\\n</table>\\nSource: TradingView\\n- Myomo Inc.: A medical robotics company, Myomo develops orthotics for patients with neuromuscular disorders. Its products include a wearable upper limb brace that assists individuals lacking mobility. Myomo has had substantial growth this year after Medicare said it would cover its flagship product, the MyoPro brace.\\n- Expion360 Inc.: An electrical equipment company, Expion360 makes lithium iron phosphate batteries for recreational vehicles. The company also makes battery charging systems and home energy storage products.\\n- Akebia Therapeutics Inc.: A pharmaceutical company that produces therapies for individuals with kidney diseases who are both dialysis and non-dialysis dependent.\\nAdvantages of Investing in Penny Stocks\\nPotential for high returns: Most penny stocks have tiny market capitalizations, so it takes a small amount of money to move their share prices substantially. Hence, positive news, such as signing on a major customer or forming a new strategic alliance, can lead to sizable returns before the mainstream investing world even discovers the stock. Conversely, negative news can lead to significant losses.\\nLeverage: Penny stocks attract investors with a small amount of trading capital since their lower share prices allow them to buy thousands of shares. For example, an investor with $500 can buy 2,000 shares of a penny stock trading at 25 cents. If the stock doubles in a month, the investor earns a quick 100% return. Yet, with the same starting capital, the investor can afford only a small number of shares in most S&P 500 stocks, making it almost impossible to achieve those gains over the same period.\\nRisks of Investing in Penny Stocks\\nLow liquidity: Penny stocks often trade on thin volume, meaning it can be difficult to enter and exit positions. Moreover, these stocks typically have a wide spread between the bid and ask, which increases trading costs. For example, if a penny stock has a bid price of $1.00 and an ask price of $1.50, a trader wanting to buy at market gets caught paying a 50 cent per share premium. Thus, investors should use limit orders to minimize trading costs when buying and selling penny stocks.\\nExtreme valuations: Penny stocks that start moving rapidly higher in price show up on stock screeners and may even get media attention. This often attracts more speculators who push prices up even higher, leading to unsustainable valuations. For instance, during the dot-com bubble in the late 1990s, many penny technology stocks doubled and tripled in price despite not generating any earnings. However, when the market turned bearish a few years later, many Nasdaq-listed penny stocks with unsustainable valuations fell substantially or were delisted.\\nThe comments, opinions, and analyses expressed on Investopedia are for informational purposes only. Read our warranty and liability disclaimer for more info.\\nAs of the date this article was written, the author does not own any of the above stocks.\", 'numeric_values': [12.0, 0.18, 1.0, 8000.0, 0.4, 1.61, 27.0, 0.4, 2.26, 27.0, 0.5, 0.87, 5.4, 20.0, 991.0, 0.22, 26.3, 46.0, 941.0, 1.31, 58.5, 14.0, 930.0, 12.0, 3.22, 85.0, 434.0, 360.0, 4.03, 28.0, 290.0, 1.0, 188.0, 285.0, 1000.0, 10.0, 2000.0, 5.0]}, {'txt_content': \"Top cannabis stocks in May include SNDL Inc., TerrAscend Corp., and Curaleaf Holdings Inc., which together lead the industry in revenue growth even as a crowded field of competitors and a thriving illicit market hamper sales.\\nThe ETFMG Alternative Harvest ETF (MJ), a proxy for cannabis stock performance, slid 53% in the last year, and even the best-performing weed stock dropped 28% in the same period, compared with a 3% increase in the large-capitalization Russell 1000 Index.\\nCannabis sales across the U.S. have slowed since an early-pandemic boom, contributing to oversupply and forcing retailers to cut prices. Licensed retailers also face competition from the illegal market and must navigate the patchwork of laws restricting cannabis use across the U.S.\\nWe look in more detail below at the top cannabis stocks in three categories: best value, fastest growth, and best stock performance. Benchmark performance data above is as of May 9, while all figures below are as of May 7, 2023.\\nBest Value Cannabis Stocks\\nHere are the cannabis stocks with the lowest 12-month trailing price-to-sales (P/S) ratio, a rough measure of companies in the early stages of development that could eventually produce more profit when they achieve (or return to) profit. The ratio shows how much you're paying for the stock for each dollar of sales generated.\\n| Best Value Cannabis Stocks | |||\\n|---|---|---|---|\\n| Price ($) | Market Capitalization ($M) | 12-Month Trailing P/S Ratio | |\\n| Cresco Labs Inc. (CRLBF) | 1.68 | 506.1 | 0.6 |\\n| SNDL Inc. (SNDL) | 1.73 | 450.0 | 0.7 |\\n| Trulieve Cannabis Corp. (TCNNF) | 5.78 | 1,064.6 | 0.9 |\\n| Curaleaf Holdings Inc. (CURLF) | 2.80 | 2,012.3 | 1.5 |\\n| Canopy Growth Corp. (CGC) | 1.34 | 698.1 | 1.7 |\\nSource: YCharts\\n- Cresco Labs Inc.: This company grows, manufactures, and distributes cannabis products, operating in 10 states. Its brands include Cresco, Remedi, High Supply, Wonder Wellness Co., Mindy's, Good News, Sunnyside, and FloraCal Farms.\\n- SNDL: It cultivates, processes, and sells cannabis through its own outlets and also sells alcoholic beverages. Its brands include Sundial, Top Leaf, Palmetto, and Grasslands. Revenue jumped in the latest quarter because SNDL added liquor retail revenue with its March 2022 acquisition of Alcanna.\\n- Trulieve Cannabis Corp.: Trulieve is a vertically integrated cannabis company with operations in several parts of the U.S. Its brands include Cultivar Collection, Muse, Roll One, Sweet Talk, and Momenta.\\n- Curaleaf Holdings: It produces cannabis products for retail and wholesale distribution and provides similar professional services. Curaleaf's revenue for the final quarter of 2022 increased by 14% as the company opened eight new retail dispensaries.\\n- Canopy Growth Corp.: Canopy, a Canadian medical cannabis producer whose brands include Tweed, DOJA, Deep Space, and Ace Valley,\\nFastest-Growing Cannabis Stocks\\nThese are the cannabis stocks with the highest year-on-year (YOY) sales growth for the most recent quarter. Rising sales can help investors identify companies that are able to increase revenue organically or through other means and find growing companies that haven't yet reached profitability. In addition, accounting factors that may not reflect the overall strength of the business can significantly influence earnings per share (EPS). However, sales growth alone doesn't guarantee a strong business because a company must also control costs.\\n| Fastest-Growing Cannabis Stocks | |||\\n|---|---|---|---|\\n| Price ($) | Market Cap ($M) | Revenue Growth (%) | |\\n| SNDL Inc. (SNDL) | 1.73 | 450.0 | 882 |\\n| TerrAscend Corp. (TRSSF) | 1.81 | 494.9 | 101.1 |\\n| Curaleaf Holdings Inc. (CURLF) | 2.80 | 2,012.3 | 14.2 |\\n| Verano Holdings Corp. (VRNOF) | 3.21 | 1,024.3 | 12.4 |\\n| Green Thumb Industries Inc. (GTBIF) | 8.58 | 2,032.1 | 6.4 |\\nSource: YCharts\\n- SNDL: See company description above.\\n- TerrAscend: It's a vertically integrated cannabis company that operates in the U.S. and Canada, with brands including The Apothecarium, Ilera Healthcare, and Kind Tree.\\n- Curaleaf Holdings: See company description above.\\n- Verano Holdings Corp.: This is a multistate retail distributor of cannabis-related products under the brands Encore, Avexia, and MUV. Verano's revenue grew in the latest quarter as a result of strong adult-use sales in New Jersey and retail contributions from Florida store openings.\\n- Green Thumb Industries Inc.: This company manufactures, processes, and distributes cannabis products such as concentrates, vapes, pre-rolls, edibles, and topicals. The company also owns retail locations throughout the U.S.\\nCannabis Stocks With the Best Performance\\nThese are the cannabis stocks that had the smallest declines in total return over the past 12 months among the companies we examined.\\n| Cannabis Stocks With the Best Performance | |||\\n|---|---|---|---|\\n| Price ($) | Market Cap ($M) | 12-Month Trailing Total Return (%) | |\\n| Green Thumb Industries Inc. (GTBIF) | 8.58 | 2,032.1 | -28.2 |\\n| Cronos Group Inc. (CRON) | 2.01 | 765.4 | -33.2 |\\n| Tilray Brands Inc. (TLRY) | 2.77 | 1,711.9 | -43.4 |\\n| Curaleaf Holdings Inc. (CURLF) | 2.80 | 2,012.3 | -49.1 |\\n| TerrAscend Corp. (TRSSF) | 1.81 | 494.9 | -52.1 |\\n| Russell 1000 Index | N/A | N/A | 2.9 |\\n| ETFMG Alternative Harvest ETF (MJ) | N/A | N/A | -52.9 |\\nSource: YCharts\\n- Green Thumb Industries: See company description above.\\n- Cronos Group Inc.: Cronos is a Canadian cannabis company that sells brands including Spinach, Lord Jones, and PEACE+.\\n- Tilray Brands Inc.: It cultivates, processes, and distributes cannabis for medical use with operations around the world. Tilray recently agreed to acquire fellow Canadian rival company HEXO Corp. for $229 million.\\n- Curaleaf Holdings: See company description above.\\n- TerrAscend: See company description above.\\nTrends to Watch in Cannabis Stocks\\nMarijuana stocks have given investors a wild ride over the past few years, staging both big rallies and substantial declines. Those who invest in them should monitor these key trends, as they will likely guide price direction in the months and years ahead.\\nFinancing: Most U.S. financial institutions avoid funding cannabis companies, as marijuana is still federally illegal, meaning lenders that provide loans could face possible prosecution. However, the Secure and Fair Enforcement Banking Act (SAFE)—which passed in the U.S. House of Representatives in 2021—aimed to address this by preventing the federal government from penalizing banks that offer financial services to the cannabis industry. Although the legislation failed to gain support in the Senate, investors should monitor any future legislation that may have a similar bent.\\nMerger & acquisition: Merger & acquisition (M&A) transactions in the U.S. cannabis industry hit a record $10.3 billion in 2021 before dropping off to about $3 billion in 2022, reflecting the year's suboptimal market conditions. Increased dealmaking in 2023 could indicate that institutional investors have growing confidence in the cannabis industry's future.\\nPotential U.S. legalization: While several cannabis legalization bills are floating around the halls of Congress, bipartisan support remains difficult to achieve, creating a large amount of uncertainty for industry participants.\\nAdvantages of Cannabis Stocks\\nDespite the underwhelming performance of marijuana stocks over the past year, the sector offers risk-taking investors significant growth potential. According to industry analysis firm MJBizDaily, U.S. cannabis sales are projected to surpass $33 billion in 2023 before reaching almost $57 billion by the end of 2028.\\nThe comments, opinions, and analyses expressed on Investopedia are for informational purposes online. Read our warranty and liability disclaimer for more info.\", 'question': 'What is the average 12-month trailing P/S ratio of the top 5 best value cannabis stocks?', 'answer': '1.0799999999999998', 'explanation': 'To answer this question, we need to identify the top 5 best value cannabis stocks and their corresponding 12-month trailing P/S ratios from the provided text. We then calculate the average of these P/S ratios.', 'code': '###Python\\n# Extract the 12-month trailing P/S ratios for the top 5 best value cannabis stocks\\nps_ratios = [0.6, 0.7, 0.9, 1.5, 1.7]\\n# Calculate the average P/S ratio\\nans = sum(ps_ratios) / len(ps_ratios)\\n###End Python', 'reasoning': nan, 'error': nan, 'text_html': \"Top cannabis stocks in May include SNDL Inc., TerrAscend Corp., and Curaleaf Holdings Inc., which together lead the industry in revenue growth even as a crowded field of competitors and a thriving illicit market hamper sales.\\nThe ETFMG Alternative Harvest ETF (MJ), a proxy for cannabis stock performance, slid 53% in the last year, and even the best-performing weed stock dropped 28% in the same period, compared with a 3% increase in the large-capitalization Russell 1000 Index.\\nCannabis sales across the U.S. have slowed since an early-pandemic boom, contributing to oversupply and forcing retailers to cut prices. Licensed retailers also face competition from the illegal market and must navigate the patchwork of laws restricting cannabis use across the U.S.\\nWe look in more detail below at the top cannabis stocks in three categories: best value, fastest growth, and best stock performance. Benchmark performance data above is as of May 9, while all figures below are as of May 7, 2023.\\nBest Value Cannabis Stocks\\nHere are the cannabis stocks with the lowest 12-month trailing price-to-sales (P/S) ratio, a rough measure of companies in the early stages of development that could eventually produce more profit when they achieve (or return to) profit. The ratio shows how much you're paying for the stock for each dollar of sales generated.\\n<table>\\n<thead>\\n<tr>\\n<th>Best Value Cannabis Stocks</th>\\n<th></th>\\n<th></th>\\n<th></th>\\n</tr>\\n</thead>\\n<tbody>\\n<tr>\\n<td>Price ($)</td>\\n<td>Market Capitalization ($M)</td>\\n<td>12-Month Trailing P/S Ratio</td>\\n<td></td>\\n</tr>\\n<tr>\\n<td>Cresco Labs Inc. (CRLBF)</td>\\n<td>1.68</td>\\n<td>506.1</td>\\n<td>0.6</td>\\n</tr>\\n<tr>\\n<td>SNDL Inc. (SNDL)</td>\\n<td>1.73</td>\\n<td>450.0</td>\\n<td>0.7</td>\\n</tr>\\n<tr>\\n<td>Trulieve Cannabis Corp. (TCNNF)</td>\\n<td>5.78</td>\\n<td>1,064.6</td>\\n<td>0.9</td>\\n</tr>\\n<tr>\\n<td>Curaleaf Holdings Inc. (CURLF)</td>\\n<td>2.80</td>\\n<td>2,012.3</td>\\n<td>1.5</td>\\n</tr>\\n<tr>\\n<td>Canopy Growth Corp. (CGC)</td>\\n<td>1.34</td>\\n<td>698.1</td>\\n<td>1.7</td>\\n</tr>\\n</tbody>\\n</table>\\nSource: YCharts\\n- Cresco Labs Inc.: This company grows, manufactures, and distributes cannabis products, operating in 10 states. Its brands include Cresco, Remedi, High Supply, Wonder Wellness Co., Mindy's, Good News, Sunnyside, and FloraCal Farms.\\n- SNDL: It cultivates, processes, and sells cannabis through its own outlets and also sells alcoholic beverages. Its brands include Sundial, Top Leaf, Palmetto, and Grasslands. Revenue jumped in the latest quarter because SNDL added liquor retail revenue with its March 2022 acquisition of Alcanna.\\n- Trulieve Cannabis Corp.: Trulieve is a vertically integrated cannabis company with operations in several parts of the U.S. Its brands include Cultivar Collection, Muse, Roll One, Sweet Talk, and Momenta.\\n- Curaleaf Holdings: It produces cannabis products for retail and wholesale distribution and provides similar professional services. Curaleaf's revenue for the final quarter of 2022 increased by 14% as the company opened eight new retail dispensaries.\\n- Canopy Growth Corp.: Canopy, a Canadian medical cannabis producer whose brands include Tweed, DOJA, Deep Space, and Ace Valley,\\nFastest-Growing Cannabis Stocks\\nThese are the cannabis stocks with the highest year-on-year (YOY) sales growth for the most recent quarter. Rising sales can help investors identify companies that are able to increase revenue organically or through other means and find growing companies that haven't yet reached profitability. In addition, accounting factors that may not reflect the overall strength of the business can significantly influence earnings per share (EPS). However, sales growth alone doesn't guarantee a strong business because a company must also control costs.\\n<table>\\n<thead>\\n<tr>\\n<th>Fastest-Growing Cannabis Stocks</th>\\n<th></th>\\n<th></th>\\n<th></th>\\n</tr>\\n</thead>\\n<tbody>\\n<tr>\\n<td>Price ($)</td>\\n<td>Market Cap ($M)</td>\\n<td>Revenue Growth (%)</td>\\n<td></td>\\n</tr>\\n<tr>\\n<td>SNDL Inc. (SNDL)</td>\\n<td>1.73</td>\\n<td>450.0</td>\\n<td>882</td>\\n</tr>\\n<tr>\\n<td>TerrAscend Corp. (TRSSF)</td>\\n<td>1.81</td>\\n<td>494.9</td>\\n<td>101.1</td>\\n</tr>\\n<tr>\\n<td>Curaleaf Holdings Inc. (CURLF)</td>\\n<td>2.80</td>\\n<td>2,012.3</td>\\n<td>14.2</td>\\n</tr>\\n<tr>\\n<td>Verano Holdings Corp. (VRNOF)</td>\\n<td>3.21</td>\\n<td>1,024.3</td>\\n<td>12.4</td>\\n</tr>\\n<tr>\\n<td>Green Thumb Industries Inc. (GTBIF)</td>\\n<td>8.58</td>\\n<td>2,032.1</td>\\n<td>6.4</td>\\n</tr>\\n</tbody>\\n</table>\\nSource: YCharts\\n- SNDL: See company description above.\\n- TerrAscend: It's a vertically integrated cannabis company that operates in the U.S. and Canada, with brands including The Apothecarium, Ilera Healthcare, and Kind Tree.\\n- Curaleaf Holdings: See company description above.\\n- Verano Holdings Corp.: This is a multistate retail distributor of cannabis-related products under the brands Encore, Avexia, and MUV. Verano's revenue grew in the latest quarter as a result of strong adult-use sales in New Jersey and retail contributions from Florida store openings.\\n- Green Thumb Industries Inc.: This company manufactures, processes, and distributes cannabis products such as concentrates, vapes, pre-rolls, edibles, and topicals. The company also owns retail locations throughout the U.S.\\nCannabis Stocks With the Best Performance\\nThese are the cannabis stocks that had the smallest declines in total return over the past 12 months among the companies we examined.\\n<table>\\n<thead>\\n<tr>\\n<th>Cannabis Stocks With the Best Performance</th>\\n<th></th>\\n<th></th>\\n<th></th>\\n</tr>\\n</thead>\\n<tbody>\\n<tr>\\n<td>Price ($)</td>\\n<td>Market Cap ($M)</td>\\n<td>12-Month Trailing Total Return (%)</td>\\n<td></td>\\n</tr>\\n<tr>\\n<td>Green Thumb Industries Inc. (GTBIF)</td>\\n<td>8.58</td>\\n<td>2,032.1</td>\\n<td>-28.2</td>\\n</tr>\\n<tr>\\n<td>Cronos Group Inc. (CRON)</td>\\n<td>2.01</td>\\n<td>765.4</td>\\n<td>-33.2</td>\\n</tr>\\n<tr>\\n<td>Tilray Brands Inc. (TLRY)</td>\\n<td>2.77</td>\\n<td>1,711.9</td>\\n<td>-43.4</td>\\n</tr>\\n<tr>\\n<td>Curaleaf Holdings Inc. (CURLF)</td>\\n<td>2.80</td>\\n<td>2,012.3</td>\\n<td>-49.1</td>\\n</tr>\\n<tr>\\n<td>TerrAscend Corp. (TRSSF)</td>\\n<td>1.81</td>\\n<td>494.9</td>\\n<td>-52.1</td>\\n</tr>\\n<tr>\\n<td>Russell 1000 Index</td>\\n<td>N/A</td>\\n<td>N/A</td>\\n<td>2.9</td>\\n</tr>\\n<tr>\\n<td>ETFMG Alternative Harvest ETF (MJ)</td>\\n<td>N/A</td>\\n<td>N/A</td>\\n<td>-52.9</td>\\n</tr>\\n</tbody>\\n</table>\\nSource: YCharts\\n- Green Thumb Industries: See company description above.\\n- Cronos Group Inc.: Cronos is a Canadian cannabis company that sells brands including Spinach, Lord Jones, and PEACE+.\\n- Tilray Brands Inc.: It cultivates, processes, and distributes cannabis for medical use with operations around the world. Tilray recently agreed to acquire fellow Canadian rival company HEXO Corp. for $229 million.\\n- Curaleaf Holdings: See company description above.\\n- TerrAscend: See company description above.\\nTrends to Watch in Cannabis Stocks\\nMarijuana stocks have given investors a wild ride over the past few years, staging both big rallies and substantial declines. Those who invest in them should monitor these key trends, as they will likely guide price direction in the months and years ahead.\\nFinancing: Most U.S. financial institutions avoid funding cannabis companies, as marijuana is still federally illegal, meaning lenders that provide loans could face possible prosecution. However, the Secure and Fair Enforcement Banking Act (SAFE)—which passed in the U.S. House of Representatives in 2021—aimed to address this by preventing the federal government from penalizing banks that offer financial services to the cannabis industry. Although the legislation failed to gain support in the Senate, investors should monitor any future legislation that may have a similar bent.\\nMerger & acquisition: Merger & acquisition (M&A) transactions in the U.S. cannabis industry hit a record $10.3 billion in 2021 before dropping off to about $3 billion in 2022, reflecting the year's suboptimal market conditions. Increased dealmaking in 2023 could indicate that institutional investors have growing confidence in the cannabis industry's future.\\nPotential U.S. legalization: While several cannabis legalization bills are floating around the halls of Congress, bipartisan support remains difficult to achieve, creating a large amount of uncertainty for industry participants.\\nAdvantages of Cannabis Stocks\\nDespite the underwhelming performance of marijuana stocks over the past year, the sector offers risk-taking investors significant growth potential. According to industry analysis firm MJBizDaily, U.S. cannabis sales are projected to surpass $33 billion in 2023 before reaching almost $57 billion by the end of 2028.\\nThe comments, opinions, and analyses expressed on Investopedia are for informational purposes online. Read our warranty and liability disclaimer for more info.\", 'numeric_values': [12.0, 1.68, 506.1, 0.6, 1.73, 450.0, 0.7, 5.78, 1.0, 64.6, 0.9, 2.8, 2.0, 12.3, 1.5, 1.34, 698.1, 1.7, 1.73, 450.0, 882.0, 1.81, 494.9, 101.1, 2.8, 2.0, 12.3, 14.2, 3.21, 1.0, 24.3, 12.4, 8.58, 2.0, 32.1, 6.4, 12.0, 8.58, 2.0, 32.1, -28.2, 2.01, 765.4, -33.2, 2.77, 1.0, 711.9, -43.4, 2.8, 2.0, 12.3, -49.1, 1.81, 494.9, -52.1, 1000.0, 2.9, -52.9]}, np.float32(0.8000002))]\n"
     ]
    }
   ],
   "source": [
    "l = dedup_result.get_least_similar_from_duplicates()\n",
    "print(l)"
   ]
  },
  {
   "cell_type": "code",
   "execution_count": 32,
   "id": "87d2fa8e-5484-446e-b7c6-f61844f02f09",
   "metadata": {},
   "outputs": [
    {
     "data": {
      "image/png": "[encoded data removed]",
      "text/plain": [
       "<Figure size 800x500 with 1 Axes>"
      ]
     },
     "metadata": {},
     "output_type": "display_data"
    }
   ],
   "source": [
    "import matplotlib.pyplot as plt\n",
    "\n",
    "# Ensure you have a DataFrame named 'df' with an 'explanation' column.\n",
    "\n",
    "# 1) Calculate the length (in characters) of each explanation\n",
    "lengths = deduped_df['explanation'].astype(str).str.len()\n",
    "\n",
    "# 2) Plot histogram of these lengths\n",
    "plt.figure(figsize=(8, 5))\n",
    "plt.hist(lengths, bins=30, edgecolor='black')\n",
    "plt.xlabel('Length of Explanation (characters)')\n",
    "plt.ylabel('Frequency')\n",
    "plt.title('Distribution of Explanation Lengths')\n",
    "plt.grid(axis='y', linestyle='--', alpha=0.7)\n",
    "plt.tight_layout()\n",
    "plt.show()"
   ]
  },
  {
   "cell_type": "code",
   "execution_count": 231,
   "id": "9bc373c0-36b5-4269-9d8f-2c61ea7ceec6",
   "metadata": {},
   "outputs": [
    {
     "name": "stdout",
     "output_type": "stream",
     "text": [
      "Index: 4827  Length: 81\n",
      "Explanation:\n",
      "To find the scaling factor, we divide the weighted average by the simple average.\n",
      "---\n",
      "\n",
      "Question:\n",
      "By what factor is the weighted average of the 18-to-34 age group's survey responses scaled compared to the simple average if the simple average is 100 and the weighted average is 120?\n",
      "---\n",
      "\n",
      "Index: 632  Length: 85\n",
      "Explanation:\n",
      "To answer the question, we need to extract the values from the table and sum them up.\n",
      "---\n",
      "\n",
      "Question:\n",
      "What is the total value of the collectibles listed in the table?\n",
      "---\n",
      "\n",
      "Index: 4866  Length: 85\n",
      "Explanation:\n",
      "To answer the question, we need to extract the values from the table and sum them up.\n",
      "---\n",
      "\n",
      "Question:\n",
      "What is the total value of shares held by the top four mutual fund holders in Q1 2021?\n",
      "---\n",
      "\n",
      "Index: 431  Length: 92\n",
      "Explanation:\n",
      "To answer the question, we need to extract the transfer fees from the table and sum them up.\n",
      "---\n",
      "\n",
      "Question:\n",
      "What is the total transfer fee for all the listed money transfer services?\n",
      "---\n",
      "\n",
      "Index: 599  Length: 92\n",
      "Explanation:\n",
      "To answer the question, we need to extract the transfer fees from the table and sum them up.\n",
      "---\n",
      "\n",
      "Question:\n",
      "What is the sum of the transfer fees for all the services listed in the table?\n",
      "---\n",
      "\n",
      "Index: 2092  Length: 92\n",
      "Explanation:\n",
      "To answer the question, we need to extract the transfer fees from the table and sum them up.\n",
      "---\n",
      "\n",
      "Question:\n",
      "What is the total transfer fee for all the given transfer options?\n",
      "---\n",
      "\n",
      "Index: 2570  Length: 92\n",
      "Explanation:\n",
      "To answer the question, we need to extract the transfer fees from the table and sum them up.\n",
      "---\n",
      "\n",
      "Question:\n",
      "What is the total transfer fee charged by all three transfer services combined when sending 1,000.00 USD?\n",
      "---\n",
      "\n",
      "Index: 3241  Length: 92\n",
      "Explanation:\n",
      "To answer the question, we need to extract the transfer fees from the table and sum them up.\n",
      "---\n",
      "\n",
      "Question:\n",
      "What is the total amount of fees (in EUR) for sending 1,000.00 SGD using the different services listed in the table?\n",
      "---\n",
      "\n",
      "Index: 3249  Length: 92\n",
      "Explanation:\n",
      "To answer the question, we need to extract the transfer fees from the table and sum them up.\n",
      "---\n",
      "\n",
      "Question:\n",
      "What is the total transfer fee for all the options listed in the table?\n",
      "---\n",
      "\n",
      "Index: 3278  Length: 92\n",
      "Explanation:\n",
      "To answer the question, we need to extract the transfer fees from the table and sum them up.\n",
      "---\n",
      "\n",
      "Question:\n",
      "What is the total transfer fee for all the listed transfer services when sending 1,000.00 NZD?\n",
      "---\n",
      "\n",
      "Index: 5060  Length: 92\n",
      "Explanation:\n",
      "To answer the question, we need to extract the transfer fees from the table and sum them up.\n",
      "---\n",
      "\n",
      "Question:\n",
      "What is the combined total of the transfer fees for all listed services when sending 1,000.00 CAD?\n",
      "---\n",
      "\n",
      "Index: 6122  Length: 92\n",
      "Explanation:\n",
      "To answer the question, we need to extract the transfer fees from the table and sum them up.\n",
      "---\n",
      "\n",
      "Question:\n",
      "What is the total transfer fee for all the listed transfer services combined?\n",
      "---\n",
      "\n",
      "Index: 6127  Length: 92\n",
      "Explanation:\n",
      "To answer the question, we need to extract the transfer fees from the table and sum them up.\n",
      "---\n",
      "\n",
      "Question:\n",
      "What is the total amount of fees for all the listed transfer services?\n",
      "---\n",
      "\n",
      "Index: 6143  Length: 92\n",
      "Explanation:\n",
      "To answer the question, we need to extract the transfer fees from the table and sum them up.\n",
      "---\n",
      "\n",
      "Question:\n",
      "What is the sum of all the transfer fees listed in the table?\n",
      "---\n",
      "\n",
      "Index: 3257  Length: 94\n",
      "Explanation:\n",
      "To answer the question, we need to extract the transfer fees for each service and sum them up.\n",
      "---\n",
      "\n",
      "Question:\n",
      "What is the total amount of transfer fees in euros for sending 1,000.00 NZD using all the listed services?\n",
      "---\n",
      "\n",
      "Index: 5519  Length: 94\n",
      "Explanation:\n",
      "To answer the question, we need to extract the account numbers from the table and sum them up.\n",
      "---\n",
      "\n",
      "Question:\n",
      "What is the sum of the account numbers for the four organizations listed where customers can donate to bushfire relief efforts?\n",
      "---\n",
      "\n",
      "Index: 5947  Length: 94\n",
      "Explanation:\n",
      "To answer the question, we need to extract the company numbers from the table and sum them up.\n",
      "---\n",
      "\n",
      "Question:\n",
      "What is the sum of the company numbers of all the listed companies?\n",
      "---\n",
      "\n",
      "Index: 6244  Length: 96\n",
      "Explanation:\n",
      "To answer the question, we need to extract the tickers from the table and count the unique ones.\n",
      "---\n",
      "\n",
      "Question:\n",
      "How many unique tickers are there for the ETF products?\n",
      "---\n",
      "\n",
      "Index: 6473  Length: 96\n",
      "Explanation:\n",
      "To answer the question, we need to extract the market cap values from the table and sum them up.\n",
      "---\n",
      "\n",
      "Question:\n",
      "What is the total market cap of the top 10 dividend stocks?\n",
      "---\n",
      "\n",
      "Index: 1848  Length: 97\n",
      "Explanation:\n",
      "To answer the question, we need to extract the page views for each month in 2016 and sum them up.\n",
      "---\n",
      "\n",
      "Question:\n",
      "What was the total number of page views in 2016?\n",
      "---\n",
      "\n"
     ]
    }
   ],
   "source": [
    "df['exp_length'] = df['explanation'].astype(str).str.len()\n",
    "\n",
    "# 2) Select top 5 rows by length\n",
    "top5 = df.nsmallest(20, 'exp_length')\n",
    "\n",
    "# 3) Print the explanations and their lengths\n",
    "for idx, row in top5.iterrows():\n",
    "    print(f\"Index: {idx}  Length: {row['exp_length']}\")\n",
    "    print(f\"Explanation:\\n{row['explanation']}\\n---\\n\")\n",
    "    print(f\"Question:\\n{row['question']}\\n---\\n\")"
   ]
  },
  {
   "cell_type": "code",
   "execution_count": 200,
   "id": "43fcd8c5-5202-4a73-bc5d-f16f6ae21fcb",
   "metadata": {},
   "outputs": [
    {
     "name": "stdout",
     "output_type": "stream",
     "text": [
      "Rows with matching (answer, txt_content) pairs:\n",
      "\n",
      "Is the average exchange rate over the last 90 days higher than the lowest exchange rate in the last 30 days?\n",
      "True\n",
      "###Python\n",
      "# Extract the required entities\n",
      "avg_90_days = 0.3162\n",
      "low_30_days = 0.3151\n",
      "\n",
      "# Perform the comparison\n",
      "ans = avg_90_days > low_30_days\n",
      "###End Python\n",
      "Is the difference between the 90-day high and low greater than the difference between the 30-day high and low?\n",
      "True\n",
      "###Python\n",
      "# Extract the required values from the text\n",
      "high_90 = 0.3265\n",
      "low_90 = 0.3079\n",
      "diff_90 = high_90 - low_90\n",
      "high_30 = 0.3265\n",
      "low_30 = 0.3151\n",
      "diff_30 = high_30 - low_30\n",
      "# Compare the differences\n",
      "ans = diff_90 > diff_30\n",
      "###End Python\n"
     ]
    }
   ],
   "source": [
    "#filter if answers are the same and theyre numerical\n",
    "duplicates = df[df.duplicated(subset=['answer', 'txt_content'], keep=False)].reset_index(drop=True)\n",
    "\n",
    "# 2) If you just want to see those duplicate groups:\n",
    "print(\"Rows with matching (answer, txt_content) pairs:\\n\")\n",
    "k = 10\n",
    "print(duplicates[\"question\"][k])\n",
    "print(duplicates[\"answer\"][k])\n",
    "print(duplicates[\"code\"][k])\n",
    "print(duplicates[\"question\"][k+1])\n",
    "print(duplicates[\"answer\"][k+1])\n",
    "print(duplicates[\"code\"][k+1])"
   ]
  },
  {
   "cell_type": "code",
   "execution_count": 26,
   "id": "d2be8cd2-783c-4708-9923-6451d5ce9d0f",
   "metadata": {},
   "outputs": [
    {
     "name": "stdout",
     "output_type": "stream",
     "text": [
      "Question: Is the average number of announcements tested per quarter in 2018 greater than 250?\n",
      "Explanation: To answer the question, we need to extract the number of announcements tested for each quarter in 2018 from the provided text. We then calculate the average number of announcements tested per quarter and compare it to 250.\n",
      "Code: ###Python\n",
      "# Extract the number of announcements tested for each quarter in 2018\n",
      "q1_2018 = 273\n",
      "q2_2018 = 401\n",
      "q3_2018 = 195\n",
      "q4_2018 = 201\n",
      "# Calculate the average number of announcements tested per quarter\n",
      "avg_announcements_2018 = (q1_2018 + q2_2018 + q3_2018 + q4_2018) / 4\n",
      "# Check if the average is greater than 250\n",
      "ans = avg_announcements_2018 > 250\n",
      "###End Python\n"
     ]
    }
   ],
   "source": [
    " \n",
    "# Sample a single random row\n",
    "row = df.sample(n=1).iloc[0]\n",
    "\n",
    "# Print the two columns\n",
    "print(\"Question:\", row[\"question\"])\n",
    "print(\"Explanation:\", row[\"explanation\"])\n",
    "print(\"Code:\", row[\"code\"])\n",
    "#print(\"Text:       \", row[\"txt_content\"])\n",
    "#print(\"HTML\", row[\"text_html\"])"
   ]
  },
  {
   "cell_type": "code",
   "execution_count": null,
   "id": "01b4267a-6160-4aba-82ba-c6b92141f8e9",
   "metadata": {},
   "outputs": [],
   "source": []
  },
  {
   "cell_type": "code",
   "execution_count": null,
   "id": "cb28c748-d448-4256-9654-557975af3b22",
   "metadata": {},
   "outputs": [],
   "source": []
  },
  {
   "cell_type": "code",
   "execution_count": 37,
   "id": "68c25a39-1482-4cd8-8952-eec3e24a04ac",
   "metadata": {},
   "outputs": [
    {
     "name": "stdout",
     "output_type": "stream",
     "text": [
      "Number of rows where answer is a boolean string: 879\n",
      "Number of rows where answer is numeric: 1613\n"
     ]
    }
   ],
   "source": [
    "mask_bool_str = deduped_df[\"answer\"].astype(str).str.lower().isin([\"true\", \"false\"])\n",
    "\n",
    "# 2) Count how many rows satisfy that\n",
    "count_bool = mask_bool_str.sum()\n",
    "\n",
    "print(f\"Number of rows where answer is a boolean string: {count_bool}\")\n",
    "\n",
    "numeric_series = pd.to_numeric(deduped_df[\"answer\"], errors=\"coerce\")\n",
    "\n",
    "# 2) Build a mask where the conversion succeeded (i.e. not NaN)\n",
    "mask_numeric = numeric_series.notna()\n",
    "\n",
    "# 3) Count how many rows are numeric\n",
    "count_numeric = mask_numeric.sum()\n",
    "\n",
    "print(f\"Number of rows where answer is numeric: {count_numeric}\")"
   ]
  }
 ],
 "metadata": {
  "kernelspec": {
   "display_name": "synthetic-data",
   "language": "python",
   "name": "python3"
  },
  "language_info": {
   "codemirror_mode": {
    "name": "ipython",
    "version": 3
   },
   "file_extension": ".py",
   "mimetype": "text/x-python",
   "name": "python",
   "nbconvert_exporter": "python",
   "pygments_lexer": "ipython3",
   "version": "3.10.16"
  }
 },
 "nbformat": 4,
 "nbformat_minor": 5
}
