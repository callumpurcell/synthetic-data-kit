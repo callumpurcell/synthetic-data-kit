{
 "cells": [
  {
   "cell_type": "code",
   "execution_count": 2,
   "id": "c6282945",
   "metadata": {},
   "outputs": [],
   "source": [
    "import pandas as pd\n",
    "\n",
    "df = pd.read_csv(\"data_dif_div/aveni-tables-20250520.csv\")"
   ]
  },
  {
   "cell_type": "code",
   "execution_count": 7,
   "id": "625441c2",
   "metadata": {},
   "outputs": [],
   "source": [
    "# Filter out contexts in top 5%\n",
    "\n",
    "# Calculate the 95th percentile threshold\n",
    "threshold = df['text'].str.len().quantile(0.95)\n",
    "\n",
    "# Filter directly\n",
    "df = df[df['text'].str.len() <= threshold]"
   ]
  },
  {
   "cell_type": "code",
   "execution_count": 9,
   "id": "5e66231b",
   "metadata": {},
   "outputs": [
    {
     "name": "stdout",
     "output_type": "stream",
     "text": [
      "                                                text  table_count\n",
      "0  AJ Bell Dodl order execution policy\\nWe are re...            0\n",
      "1  If you’re not sure about transferring your pen...            1\n",
      "2  Key features of the Dodl pension\\nContents\\n- ...            0\n",
      "3  Cookie policy\\nLike most websites, Dodl uses c...            0\n",
      "4  The charges\\nCompare your Dodl account to othe...            1\n"
     ]
    }
   ],
   "source": [
    "import re\n",
    "\n",
    "def count_markdown_tables(text):\n",
    "    \"\"\"Count the number of markdown tables in a text string\"\"\"\n",
    "    # Pattern to match table separator lines like |---|---|---|\n",
    "    # This looks for lines with at least one pipe and dashes\n",
    "    table_pattern = r'^\\s*\\|[\\s\\-:|]+\\|\\s*$'\n",
    "    \n",
    "    # Split text into lines and find matches\n",
    "    lines = text.split('\\n')\n",
    "    table_separators = [line for line in lines if re.match(table_pattern, line)]\n",
    "    \n",
    "    # Each table has one separator line (usually after the header)\n",
    "    return len(table_separators)\n",
    "\n",
    "# Apply to your dataframe\n",
    "df['table_count'] = df['text'].apply(count_markdown_tables)\n",
    "\n",
    "# View the results\n",
    "print(df[['text', 'table_count']].head())"
   ]
  },
  {
   "cell_type": "code",
   "execution_count": 10,
   "id": "94b2d92e",
   "metadata": {},
   "outputs": [
    {
     "name": "stdout",
     "output_type": "stream",
     "text": [
      "Total entries: 93869\n",
      "Entries with tables: 73016\n",
      "Average tables per entry: 2.28\n",
      "Max tables in an entry: 273\n",
      "\n",
      "Table count distribution:\n",
      "table_count\n",
      "0      20853\n",
      "1      38400\n",
      "2      12751\n",
      "3       5255\n",
      "4       6873\n",
      "       ...  \n",
      "214        1\n",
      "226        1\n",
      "248        1\n",
      "264        1\n",
      "273        1\n",
      "Name: count, Length: 126, dtype: int64\n"
     ]
    }
   ],
   "source": [
    "# Summary statistics\n",
    "print(f\"Total entries: {len(df)}\")\n",
    "print(f\"Entries with tables: {(df['table_count'] > 0).sum()}\")\n",
    "print(f\"Average tables per entry: {df['table_count'].mean():.2f}\")\n",
    "print(f\"Max tables in an entry: {df['table_count'].max()}\")\n",
    "\n",
    "# Distribution of table counts\n",
    "print(\"\\nTable count distribution:\")\n",
    "print(df['table_count'].value_counts().sort_index())"
   ]
  },
  {
   "cell_type": "code",
   "execution_count": 21,
   "id": "1321a4e6",
   "metadata": {},
   "outputs": [
    {
     "name": "stdout",
     "output_type": "stream",
     "text": [
      "Original DataFrame: 93869 rows\n",
      "Filtered DataFrame: 66700 rows\n",
      "Rows removed: 27169\n",
      "\n",
      "Table count distribution in filtered data:\n",
      "table_count\n",
      "1    38400\n",
      "2    12751\n",
      "3     5255\n",
      "4     6873\n",
      "5     2192\n",
      "6     1229\n",
      "Name: count, dtype: int64\n"
     ]
    }
   ],
   "source": [
    "# Filter to keep only rows with 1-6 tables\n",
    "df_filtered = df[(df['table_count'] > 0) & (df['table_count'] <= 6)]\n",
    "\n",
    "# Check the results\n",
    "print(f\"Original DataFrame: {len(df)} rows\")\n",
    "print(f\"Filtered DataFrame: {len(df_filtered)} rows\")\n",
    "print(f\"Rows removed: {len(df) - len(df_filtered)}\")\n",
    "\n",
    "# See the distribution of table counts in the filtered data\n",
    "print(\"\\nTable count distribution in filtered data:\")\n",
    "print(df_filtered['table_count'].value_counts().sort_index())"
   ]
  },
  {
   "cell_type": "code",
   "execution_count": 35,
   "id": "1fea7f22",
   "metadata": {},
   "outputs": [
    {
     "name": "stdout",
     "output_type": "stream",
     "text": [
      "Single table entries: 38400\n",
      "Multiple table entries: 28300\n",
      "Total: 66700\n",
      "\n",
      "Files saved:\n",
      "- single_table_dataset.csv\n",
      "- multiple_tables_dataset.csv\n"
     ]
    }
   ],
   "source": [
    "# Split the dataset\n",
    "df_single_table = df_filtered[df_filtered['table_count'] == 1]\n",
    "df_multiple_tables = df_filtered[df_filtered['table_count'] > 1]\n",
    "\n",
    "# Check the split\n",
    "print(f\"Single table entries: {len(df_single_table)}\")\n",
    "print(f\"Multiple table entries: {len(df_multiple_tables)}\")\n",
    "print(f\"Total: {len(df_single_table) + len(df_multiple_tables)}\")\n",
    "\n",
    "# Save to CSV files\n",
    "df_single_table.to_csv('data_dif_div/single_table_dataset.csv', index=False)\n",
    "df_multiple_tables.to_csv('data_dif_div/multiple_tables_dataset.csv', index=False)\n",
    "\n",
    "print(\"\\nFiles saved:\")\n",
    "print(\"- single_table_dataset.csv\")\n",
    "print(\"- multiple_tables_dataset.csv\")"
   ]
  },
  {
   "cell_type": "code",
   "execution_count": 33,
   "id": "6a77c095",
   "metadata": {},
   "outputs": [
    {
     "name": "stdout",
     "output_type": "stream",
     "text": [
      "Random entry (index 65262):\n",
      "Number of tables: 1\n",
      "--------------------------------------------------\n",
      "Robinhood Markets (HOOD -1.90%), the online brokerage that popularized commission-free trading, went public in July 2021 at $38 a share. Its stock hit an all-time high of $70.29 less than a week later, but it dropped below $7 by the following June.\n",
      "Robinhood's stock plummeted as rising interest rates curbed the market's appetite for the higher-risk stocks, options, and cryptocurrencies that have driven most of its growth during the pandemic. However, its stock recovered over the following two years as interest rates peaked and investors poured more cash back into its platform.\n",
      "Robinhood's stock trades at about $36 as of this writing, which marks a five-bagger gain from its all-time low but still falls shy of its IPO price. Let's take a fresh look at its business and see where its stock might head over the next three years.\n",
      "What happened to Robinhood over the past few years?\n",
      "Robinhood's growth accelerated during the pandemic as social media buzz, stimulus checks, and a fear of missing out (FOMO) brought a stampede of investors to its commission-free trading platform. That buying frenzy, which lasted throughout most of 2020 and 2021, drove many meme stocks to their all-time highs. Robinhood went public near the peak of that buying frenzy.\n",
      "Key Data Points\n",
      "But in 2022, its growth in funded customers nearly stalled out, its number of monthly active users (MAUs) plummeted, and its assets under custody (AUC) shriveled as it attracted fewer net deposits during the market downturn. That decline can be largely attributed to rising interest rates, which chilled the market and drove investors toward more conservative investments. But in 2023 and 2024, its business stabilized with the broader market as investors focused on future interest rate cuts.\n",
      "|\n",
      "Metric |\n",
      "2020 |\n",
      "2021 |\n",
      "2022 |\n",
      "2023 |\n",
      "9 months of 2024 |\n",
      "|---|---|---|---|---|---|\n",
      "|\n",
      "Funded customers (in millions) |\n",
      "12.5 |\n",
      "22.7 |\n",
      "23 |\n",
      "23.4 |\n",
      "24.3 |\n",
      "|\n",
      "MAUs (in millions) |\n",
      "11.7 |\n",
      "17.3 |\n",
      "11.4 |\n",
      "10.9 |\n",
      "11 |\n",
      "|\n",
      "AUC (in billions) |\n",
      "$63 |\n",
      "$98 |\n",
      "$62 |\n",
      "$103 |\n",
      "$152 |\n",
      "Its MAUs remain below its pandemic-era peak, but its annualized average revenue per user (ARPU) rose 31% year over year to $105 in the third quarter of 2024. That's only slightly lower than its peak APRU of $115 back in the second quarter of 2020.\n",
      "Are You Missing The Morning Scoop?\n",
      "That growth was fueled by the market's recovery and the expansion of its subscription-based Gold plan, which provides higher interest rates on uninvested cash, bonuses on taxable deposits and IRA contributions, bigger instant deposits, lower margin rates, access to Level II trading data, and other perks. Its number of Gold subscribers jumped 65% year over year to 2.2 million in the third quarter of 2024.\n",
      "Robinhood also turned profitable on a generally accepted accounting principles (GAAP) basis in the first nine months of 2024 as it cut costs and reined in its stock-based compensation. It even launched a $1 billion buyback plan earlier this year.\n",
      "What's next for Robinhood?\n",
      "Robinhood still faces stiff competition from traditional brokerages like Charles Schwab (NYSE: SCHW) and Morgan Stanley's (NYSE: MS) E*Trade, which pivoted toward commission-free stock trades over the past few years. It also still generated 80% of its transaction revenue from riskier options and crypto trades instead of equities in its latest quarter, and that mix could exacerbate its volatility during a market downturn.\n",
      "Yet Robinhood's growth in funded customers remains stable, it's locking in more of its active users into its Gold plans, and it's increasing the stickiness of its ecosystem with more cash management and digital payment services. It's also tethering more users to its Robinhood Cash Card, a debit card that runs on Mastercard's (NYSE: MA) payment network and provides cashback rewards with automatic investments.\n",
      "If the Fed continues to cut rates, investors will likely pour more cash into Robinhood and place more trades. However, the Federal Reserve recently projected it would make fewer rate cuts in 2025 unless inflation finally cooled off -- and that pressure could chill the market again and throttle Robinhood's growth over the next three years.\n",
      "Where will Robinhood's stock be in three years?\n",
      "From 2023 to 2026, analysts expect Robinhood's revenue to grow at a compound annual growth rate (CAGR) of 22%. On the bottom line, they expect it to stay profitable in 2024 and grow its net income at a CAGR of 8% over the following two years.\n",
      "Those growth rates seem steady, but they might disappoint investors who had hoped for an acceleration to its pandemic-era levels again. Its stock also isn't a screaming bargain at 42 times next year's earnings. Assuming it matches Wall Street's estimates, continues to grow its earnings per share at a CAGR of 8% from 2026 to 2028, and still trades at 40 times forward earnings, its stock could potentially rise nearly 20% over the next three years.\n",
      "That's a decent three-year gain, but it might not be worth the near-term risk. Investors can likely net similar gains with more conservative stocks, and Robinhood's stock could easily be cut in half again if the market crashes and crushes its valuations.\n",
      "However, don’t buy any shares just yet\n",
      "Because my colleague, Mark Rogers, has released this special report.\n",
      "It’s called ‘5 Stocks for Trying to Build Wealth After 50’. And it’s yours, free.\n",
      "Of course, the decade ahead looks hazardous. What with rampant inflation, a ‘cost of living crisis’ and war in Ukraine, knowing where to invest has never been trickier. And yet, with so many shares below recent highs, there are also potential opportunities to strike.\n",
      "That’s why now could be an ideal time to secure this valuable investment research.\n",
      "Mark’s ‘Foolish’ analysts have scoured the markets low and high.\n",
      "This special report reveals 5 of his favourite long-term ‘Buys’.\n",
      "Please, don’t make any big decisions before seeing them.\n"
     ]
    }
   ],
   "source": [
    "import random\n",
    "\n",
    "# Get a random index\n",
    "random_idx = random.choice(df_filtered.index)\n",
    "\n",
    "# Get the text and table count for that index\n",
    "random_text = df_filtered.loc[random_idx, 'text']\n",
    "table_count = df_filtered.loc[random_idx, 'table_count']\n",
    "\n",
    "# Print the results\n",
    "print(f\"Random entry (index {random_idx}):\")\n",
    "print(f\"Number of tables: {table_count}\")\n",
    "print(\"-\" * 50)\n",
    "print(random_text)"
   ]
  }
 ],
 "metadata": {
  "kernelspec": {
   "display_name": "synthetic-data",
   "language": "python",
   "name": "python3"
  },
  "language_info": {
   "codemirror_mode": {
    "name": "ipython",
    "version": 3
   },
   "file_extension": ".py",
   "mimetype": "text/x-python",
   "name": "python",
   "nbconvert_exporter": "python",
   "pygments_lexer": "ipython3",
   "version": "3.10.16"
  }
 },
 "nbformat": 4,
 "nbformat_minor": 5
}
